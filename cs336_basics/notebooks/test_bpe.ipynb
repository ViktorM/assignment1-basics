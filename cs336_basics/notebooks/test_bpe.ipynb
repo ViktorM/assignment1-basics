{
 "cells": [
  {
   "cell_type": "code",
   "execution_count": 1,
   "metadata": {},
   "outputs": [],
   "source": [
    "import sys\n",
    "sys.path.append('..')\n",
    "import pickle\n",
    "import psutil\n",
    "import time\n",
    "from tokenization_utils import train_bpe\n",
    "\n",
    "# input_path = \"../data/TinyStoriesV2-GPT4-train.txt\"\n",
    "input_path = \"../../data/TinyStoriesV2-GPT4-valid.txt\"\n",
    "# vocab_size = 10_000\n",
    "# input_path = \"../../data/sampled_50k.txt\"\n",
    "vocab_size = 500\n",
    "special_tokens = [\"<|endoftext|>\"]\n",
    "\n",
    "# Measure memory before training\n",
    "process = psutil.Process()\n",
    "memory_before = process.memory_info().rss / (1024 ** 3)  # in GB"
   ]
  },
  {
   "cell_type": "code",
   "execution_count": 2,
   "metadata": {},
   "outputs": [
    {
     "name": "stdout",
     "output_type": "stream",
     "text": [
      "[merge_with_heap] took 31.64 seconds.\n",
      "[train_bpe] took 32.14 seconds.\n",
      "Training completed in 0.54 minutes\n",
      "Memory used: 0.93 GB\n",
      "Longest token length: 42 bytes\n",
      "Longest token (decoded): Once upon a time, there was a little girl \n"
     ]
    }
   ],
   "source": [
    "    # Train BPE tokenizer\n",
    "    start_time = time.time()\n",
    "    vocab, merges = train_bpe(\n",
    "        input_path=input_path,\n",
    "        vocab_size=vocab_size,\n",
    "        special_tokens=special_tokens,\n",
    "        num_processes=None,  # None: use all CPUs\n",
    "        use_naive_merge=False\n",
    "    )\n",
    "    elapsed_time = time.time() - start_time\n",
    "\n",
    "    # Measure memory after training\n",
    "    memory_after = process.memory_info().rss / (1024 ** 3)  # in GB\n",
    "    memory_used = memory_after - memory_before\n",
    "\n",
    "    # Serialize vocab and merges\n",
    "    with open(\"bpe_vocab.pkl\", \"wb\") as f:\n",
    "        pickle.dump(vocab, f)\n",
    "\n",
    "    with open(\"bpe_merges.pkl\", \"wb\") as f:\n",
    "        pickle.dump(merges, f)\n",
    "\n",
    "    # Since final_vocab is {raw_token: id}, raw tokens are in vocab.keys()\n",
    "    longest_token = max(vocab.keys(), key=lambda token: len(token))\n",
    "\n",
    "    print(f\"Training completed in {elapsed_time / 60:.2f} minutes\")\n",
    "    print(f\"Memory used: {memory_used:.2f} GB\")\n",
    "    print(f\"Longest token length: {len(longest_token)} bytes\")\n",
    "    print(f\"Longest token (decoded): {longest_token.decode('utf-8', errors='replace')}\")"
   ]
  },
  {
   "cell_type": "code",
   "execution_count": 2,
   "metadata": {},
   "outputs": [
    {
     "ename": "NameError",
     "evalue": "name 'Iterable' is not defined",
     "output_type": "error",
     "traceback": [
      "\u001b[0;31m---------------------------------------------------------------------------\u001b[0m",
      "\u001b[0;31mNameError\u001b[0m                                 Traceback (most recent call last)",
      "Cell \u001b[0;32mIn[2], line 1\u001b[0m\n\u001b[0;32m----> 1\u001b[0m \u001b[38;5;28;01mfrom\u001b[39;00m \u001b[38;5;21;01mtokenizer\u001b[39;00m \u001b[38;5;28;01mimport\u001b[39;00m Tokenizer  \u001b[38;5;66;03m# assuming your tokenizer class is defined in tokenizer.py\u001b[39;00m\n\u001b[1;32m      4\u001b[0m \u001b[38;5;66;03m# input_path = \"../data/TinyStoriesV2-GPT4-train.txt\"\u001b[39;00m\n\u001b[1;32m      5\u001b[0m \u001b[38;5;66;03m# vocab_size = 10_000\u001b[39;00m\n\u001b[1;32m      6\u001b[0m input_path \u001b[38;5;241m=\u001b[39m \u001b[38;5;124m\"\u001b[39m\u001b[38;5;124m../../data/TinyStoriesV2-GPT4-valid.txt\u001b[39m\u001b[38;5;124m\"\u001b[39m\n",
      "File \u001b[0;32m~/Projects/Stanford/CS336/assignment1-basics/cs336_basics/notebooks/../tokenizer.py:17\u001b[0m\n\u001b[1;32m     13\u001b[0m \u001b[38;5;28;01mfrom\u001b[39;00m \u001b[38;5;21;01mcollections\u001b[39;00m \u001b[38;5;28;01mimport\u001b[39;00m defaultdict, Counter\n\u001b[1;32m     14\u001b[0m \u001b[38;5;28;01mfrom\u001b[39;00m \u001b[38;5;21;01mtokenization_utils\u001b[39;00m \u001b[38;5;28;01mimport\u001b[39;00m find_chunk_boundaries, pretokenize_chunk\n\u001b[0;32m---> 17\u001b[0m \u001b[38;5;28;43;01mclass\u001b[39;49;00m\u001b[43m \u001b[49m\u001b[38;5;21;43;01mTokenizer_old\u001b[39;49;00m\u001b[43m:\u001b[49m\n\u001b[1;32m     18\u001b[0m \u001b[43m    \u001b[49m\u001b[38;5;28;43;01mdef\u001b[39;49;00m\u001b[43m \u001b[49m\u001b[38;5;21;43m__init__\u001b[39;49m\u001b[43m(\u001b[49m\u001b[38;5;28;43mself\u001b[39;49m\u001b[43m,\u001b[49m\u001b[43m \u001b[49m\u001b[43mvocab\u001b[49m\u001b[43m,\u001b[49m\u001b[43m \u001b[49m\u001b[43mmerges\u001b[49m\u001b[43m,\u001b[49m\u001b[43m \u001b[49m\u001b[43msplit_pattern\u001b[49m\u001b[38;5;241;43m=\u001b[39;49m\u001b[38;5;124;43m\"\u001b[39;49m\u001b[38;5;124;43mgpt2\u001b[39;49m\u001b[38;5;124;43m\"\u001b[39;49m\u001b[43m,\u001b[49m\u001b[43m \u001b[49m\u001b[43mspecial_tokens\u001b[49m\u001b[38;5;241;43m=\u001b[39;49m\u001b[38;5;28;43;01mNone\u001b[39;49;00m\u001b[43m)\u001b[49m\u001b[43m:\u001b[49m\n\u001b[1;32m     19\u001b[0m \u001b[38;5;250;43m        \u001b[39;49m\u001b[38;5;124;43;03m\"\"\"\u001b[39;49;00m\n\u001b[1;32m     20\u001b[0m \u001b[38;5;124;43;03m        Initialize the tokenizer with a vocabulary and merges.\u001b[39;49;00m\n\u001b[1;32m     21\u001b[0m \n\u001b[0;32m   (...)\u001b[0m\n\u001b[1;32m     27\u001b[0m \u001b[38;5;124;43;03m            None\u001b[39;49;00m\n\u001b[1;32m     28\u001b[0m \u001b[38;5;124;43;03m        \"\"\"\u001b[39;49;00m\n",
      "File \u001b[0;32m~/Projects/Stanford/CS336/assignment1-basics/cs336_basics/notebooks/../tokenizer.py:76\u001b[0m, in \u001b[0;36mTokenizer_old\u001b[0;34m()\u001b[0m\n\u001b[1;32m     71\u001b[0m \u001b[38;5;250m    \u001b[39m\u001b[38;5;124;03m\"\"\"\u001b[39;00m\n\u001b[1;32m     72\u001b[0m \u001b[38;5;124;03m    Encode an input text into a sequence of token IDs.\u001b[39;00m\n\u001b[1;32m     73\u001b[0m \u001b[38;5;124;03m    \"\"\"\u001b[39;00m\n\u001b[1;32m     74\u001b[0m     \u001b[38;5;28;01mpass\u001b[39;00m\n\u001b[0;32m---> 76\u001b[0m \u001b[38;5;28;01mdef\u001b[39;00m \u001b[38;5;21mencode_iterable\u001b[39m(\u001b[38;5;28mself\u001b[39m, iterable: \u001b[43mIterable\u001b[49m[\u001b[38;5;28mstr\u001b[39m]) \u001b[38;5;241m-\u001b[39m\u001b[38;5;241m>\u001b[39m Iterator[\u001b[38;5;28mint\u001b[39m]:\n\u001b[1;32m     77\u001b[0m \u001b[38;5;250m    \u001b[39m\u001b[38;5;124;03m\"\"\"\u001b[39;00m\n\u001b[1;32m     78\u001b[0m \u001b[38;5;124;03m    Given an iterable of strings (e.g., a Python file handle), return a generator that lazily yields token IDs. This is\u001b[39;00m\n\u001b[1;32m     79\u001b[0m \u001b[38;5;124;03m    required for memory-eﬀicient tokenization of large files that we cannot directly load into\u001b[39;00m\n\u001b[1;32m     80\u001b[0m \u001b[38;5;124;03m    memory.\u001b[39;00m\n\u001b[1;32m     81\u001b[0m \u001b[38;5;124;03m    \"\"\"\u001b[39;00m\n\u001b[1;32m     82\u001b[0m     \u001b[38;5;28;01mpass\u001b[39;00m\n",
      "\u001b[0;31mNameError\u001b[0m: name 'Iterable' is not defined"
     ]
    }
   ],
   "source": [
    "from tokenizer import Tokenizer\n",
    "\n",
    "# input_path = \"../data/TinyStoriesV2-GPT4-train.txt\"\n",
    "# vocab_size = 10_000\n",
    "input_path = \"../../data/TinyStoriesV2-GPT4-valid.txt\"\n",
    "vocab_size = 500\n",
    "special_tokens = [\"<|endoftext|>\"]\n",
    "\n",
    "process = psutil.Process()\n",
    "memory_before = process.memory_info().rss / (1024 ** 3)  # in GB\n",
    "\n",
    "# Train tokenizer\n",
    "start_time = time.time()\n",
    "tokenizer = Tokenizer.train(input_path=input_path, vocab_size=vocab_size, special_tokens=special_tokens)\n",
    "elapsed_time = time.time() - start_time\n",
    "\n",
    "memory_after = process.memory_info().rss / (1024 ** 3)  # in GB\n",
    "memory_used = memory_after - memory_before\n",
    "\n",
    "# Serialize vocab and merges\n",
    "with open(\"bpe_vocab.pkl\", \"wb\") as f:\n",
    "    pickle.dump(tokenizer.vocab, f)\n",
    "\n",
    "with open(\"bpe_merges.pkl\", \"wb\") as f:\n",
    "    pickle.dump(tokenizer.merges, f)\n",
    "\n",
    "longest_token = max(tokenizer.vocab.values(), key=lambda token: len(token))\n",
    "\n",
    "print(f\"Training completed in {elapsed_time / 60:.2f} minutes\")\n",
    "print(f\"Memory used: {memory_used:.2f} GB\")\n",
    "print(f\"Longest token length: {len(longest_token)} bytes\")\n",
    "print(f\"Longest token (decoded): {longest_token.decode('utf-8', errors='replace')}\")"
   ]
  }
 ],
 "metadata": {
  "kernelspec": {
   "display_name": "clone312",
   "language": "python",
   "name": "python3"
  },
  "language_info": {
   "codemirror_mode": {
    "name": "ipython",
    "version": 3
   },
   "file_extension": ".py",
   "mimetype": "text/x-python",
   "name": "python",
   "nbconvert_exporter": "python",
   "pygments_lexer": "ipython3",
   "version": "3.12.5"
  }
 },
 "nbformat": 4,
 "nbformat_minor": 2
}
