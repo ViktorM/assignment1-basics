{
 "cells": [
  {
   "cell_type": "code",
   "execution_count": 1,
   "metadata": {},
   "outputs": [],
   "source": [
    "import sys\n",
    "sys.path.append('..')\n",
    "import pickle\n",
    "import psutil\n",
    "import time\n",
    "from tokenization_utils import train_bpe\n",
    "\n",
    "# input_path = \"../data/TinyStoriesV2-GPT4-train.txt\"\n",
    "input_path = \"../../data/TinyStoriesV2-GPT4-valid.txt\"\n",
    "# vocab_size = 10_000\n",
    "# input_path = \"../../data/sampled_50k.txt\"\n",
    "vocab_size = 500\n",
    "special_tokens = [\"<|endoftext|>\"]\n",
    "\n",
    "# Measure memory before training\n",
    "process = psutil.Process()\n",
    "memory_before = process.memory_info().rss / (1024 ** 3)  # in GB"
   ]
  },
  {
   "cell_type": "code",
   "execution_count": null,
   "metadata": {},
   "outputs": [
    {
     "name": "stdout",
     "output_type": "stream",
     "text": [
      "[merge_naive] took 686.23 seconds.\n",
      "[train_bpe] took 687.03 seconds.\n",
      "Training completed in 11.45 minutes\n",
      "Memory used: 0.74 GB\n",
      "Longest token length: 18 bytes\n",
      "Longest token (decoded): Once upon a time, \n"
     ]
    }
   ],
   "source": [
    "    # Train BPE tokenizer\n",
    "    start_time = time.time()\n",
    "    vocab, merges = train_bpe(\n",
    "        input_path=input_path,\n",
    "        vocab_size=vocab_size,\n",
    "        special_tokens=special_tokens,\n",
    "        num_processes=None,  # None: use all CPUs\n",
    "        use_naive_merge=False\n",
    "    )\n",
    "    elapsed_time = time.time() - start_time\n",
    "\n",
    "    # Measure memory after training\n",
    "    memory_after = process.memory_info().rss / (1024 ** 3)  # in GB\n",
    "    memory_used = memory_after - memory_before\n",
    "\n",
    "    # Serialize vocab and merges\n",
    "    with open(\"bpe_vocab.pkl\", \"wb\") as f:\n",
    "        pickle.dump(vocab, f)\n",
    "\n",
    "    with open(\"bpe_merges.pkl\", \"wb\") as f:\n",
    "        pickle.dump(merges, f)\n",
    "\n",
    "    # Since final_vocab is {raw_token: id}, raw tokens are in vocab.keys()\n",
    "    longest_token = max(vocab.keys(), key=lambda token: len(token))\n",
    "\n",
    "    print(f\"Training completed in {elapsed_time / 60:.2f} minutes\")\n",
    "    print(f\"Memory used: {memory_used:.2f} GB\")\n",
    "    print(f\"Longest token length: {len(longest_token)} bytes\")\n",
    "    print(f\"Longest token (decoded): {longest_token.decode('utf-8', errors='replace')}\")"
   ]
  }
 ],
 "metadata": {
  "kernelspec": {
   "display_name": "clone312",
   "language": "python",
   "name": "python3"
  },
  "language_info": {
   "codemirror_mode": {
    "name": "ipython",
    "version": 3
   },
   "file_extension": ".py",
   "mimetype": "text/x-python",
   "name": "python",
   "nbconvert_exporter": "python",
   "pygments_lexer": "ipython3",
   "version": "3.12.5"
  }
 },
 "nbformat": 4,
 "nbformat_minor": 2
}
