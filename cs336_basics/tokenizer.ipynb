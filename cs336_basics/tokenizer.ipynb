{
 "cells": [
  {
   "cell_type": "code",
   "execution_count": 1,
   "metadata": {},
   "outputs": [],
   "source": [
    "PAT = r\"\"\"'(?:[sdmt]|ll|ve|re)| ?\\p{L}+| ?\\p{N}+| ?[^\\s\\p{L}\\p{N}]+|\\s+(?!\\S)|\\s+\"\"\""
   ]
  },
  {
   "cell_type": "code",
   "execution_count": 2,
   "metadata": {},
   "outputs": [
    {
     "data": {
      "text/plain": [
       "['Hello', ',', ' world', '!']"
      ]
     },
     "execution_count": 2,
     "metadata": {},
     "output_type": "execute_result"
    }
   ],
   "source": [
    "import regex as re\n",
    "re.findall(PAT, \"Hello, world!\")"
   ]
  },
  {
   "cell_type": "code",
   "execution_count": 4,
   "metadata": {},
   "outputs": [
    {
     "data": {
      "text/plain": [
       "['Some', ' text', ' that', ' I', \"'ll\", ' pre', '-', 'tokenize']"
      ]
     },
     "execution_count": 4,
     "metadata": {},
     "output_type": "execute_result"
    }
   ],
   "source": [
    "text = \"Some text that I'll pre-tokenize\"\n",
    "re.findall(PAT, text)"
   ]
  },
  {
   "cell_type": "code",
   "execution_count": 5,
   "metadata": {},
   "outputs": [
    {
     "name": "stdout",
     "output_type": "stream",
     "text": [
      "Match: 'Some' at positions 0–4\n",
      "Match: ' text' at positions 4–9\n",
      "Match: ' that' at positions 9–14\n",
      "Match: ' I' at positions 14–16\n",
      "Match: ''ll' at positions 16–19\n",
      "Match: ' pre' at positions 19–23\n",
      "Match: '-' at positions 23–24\n",
      "Match: 'tokenize' at positions 24–32\n"
     ]
    }
   ],
   "source": [
    "for match in re.finditer(PAT, text):\n",
    "    print(f\"Match: '{match.group()}' at positions {match.start()}–{match.end()}\")"
   ]
  },
  {
   "cell_type": "code",
   "execution_count": 10,
   "metadata": {},
   "outputs": [
    {
     "data": {
      "text/plain": [
       "b'9'"
      ]
     },
     "execution_count": 10,
     "metadata": {},
     "output_type": "execute_result"
    }
   ],
   "source": [
    "bytes('9', 'utf-8')"
   ]
  },
  {
   "cell_type": "code",
   "execution_count": 19,
   "metadata": {},
   "outputs": [
    {
     "data": {
      "text/plain": [
       "b'\\t\\n\\x0c'"
      ]
     },
     "execution_count": 19,
     "metadata": {},
     "output_type": "execute_result"
    }
   ],
   "source": [
    "bytes([9, 10, 12])"
   ]
  },
  {
   "cell_type": "code",
   "execution_count": 11,
   "metadata": {},
   "outputs": [
    {
     "data": {
      "text/plain": [
       "b'\\x00\\x00\\x00\\x00\\x00\\x00\\x00\\x00\\x00'"
      ]
     },
     "execution_count": 11,
     "metadata": {},
     "output_type": "execute_result"
    }
   ],
   "source": [
    "bytes(9)"
   ]
  },
  {
   "cell_type": "code",
   "execution_count": 6,
   "metadata": {},
   "outputs": [],
   "source": [
    "# Initial vocabulary: 256 single-byte tokens\n",
    "vocab = {bytes([i]): i for i in range(256)}"
   ]
  },
  {
   "cell_type": "code",
   "execution_count": 20,
   "metadata": {},
   "outputs": [
    {
     "name": "stdout",
     "output_type": "stream",
     "text": [
      "8\n"
     ]
    }
   ],
   "source": [
    "print(vocab[bytes([8])])"
   ]
  },
  {
   "cell_type": "code",
   "execution_count": null,
   "metadata": {},
   "outputs": [],
   "source": [
    "from collections import defaultdict\n",
    "\n",
    "# Step 1: Define initial vocabulary (single-byte tokens)\n",
    "vocab = {bytes([i]): i for i in range(256)}\n",
    "\n",
    "special_tokens = [\"<|endoftext|>\"] # [\"<|endoftext|>\", \"<|pad|>\"]\n",
    "for token in special_tokens:\n",
    "    vocab[token] = len(vocab)\n",
    "\n",
    "# Step 2: Pre-tokenize and convert to bytes\n",
    "text = \"low low low low low lower lower widest widest widest newest newest newest newest newest newest\"\n",
    "\n",
    "pre_tokens = text.strip().split()  # Simple pre-tokenization\n",
    "pre_tokens_bytes = [token.encode('utf-8') for token in pre_tokens]"
   ]
  },
  {
   "cell_type": "code",
   "execution_count": 2,
   "metadata": {},
   "outputs": [
    {
     "name": "stdout",
     "output_type": "stream",
     "text": [
      "defaultdict(<class 'int'>, {(108, 111): 7, (111, 119): 7, (119, 101): 8, (101, 114): 2, (119, 105): 3, (105, 100): 3, (100, 101): 3, (101, 115): 9, (115, 116): 9, (110, 101): 6, (101, 119): 6})\n"
     ]
    }
   ],
   "source": [
    "def calc_pair_counts(tokens):\n",
    "    pair_counts = defaultdict(int)\n",
    "    for token in tokens:\n",
    "        for i in range(len(token) - 1):\n",
    "            pair = (token[i], token[i + 1])\n",
    "            pair_counts[pair] += 1\n",
    "\n",
    "    return pair_counts\n",
    "\n",
    "pair_counts = calc_pair_counts(pre_tokens_bytes)\n",
    "print(pair_counts)"
   ]
  },
  {
   "cell_type": "code",
   "execution_count": null,
   "metadata": {},
   "outputs": [],
   "source": [
    "\n",
    "num_merges = 10\n",
    "\n",
    "tokens = pre_tokens_bytes\n",
    "for _ in range(num_merges):\n",
    "    pair_counts = calc_pair_counts(tokens)\n",
    "    if not pair_counts:\n",
    "        break\n",
    "    \n",
    "    # Step 4: Find most frequent pair (lexicographically greatest on ties)\n",
    "    most_freq_pair = max(pair_counts, key=lambda p: (pair_counts[p], p))\n",
    "    \n",
    "    print(f\"Merge #{merge_idx + 1}: {most_freq_pair}, Count: {pair_counts[most_freq_pair]}\")\n",
    "\n",
    "    # TODO: Implement logic to replace occurrences of most_freq_pair"
   ]
  }
 ],
 "metadata": {
  "kernelspec": {
   "display_name": ".venv",
   "language": "python",
   "name": "python3"
  },
  "language_info": {
   "codemirror_mode": {
    "name": "ipython",
    "version": 3
   },
   "file_extension": ".py",
   "mimetype": "text/x-python",
   "name": "python",
   "nbconvert_exporter": "python",
   "pygments_lexer": "ipython3",
   "version": "3.12.5"
  }
 },
 "nbformat": 4,
 "nbformat_minor": 2
}
