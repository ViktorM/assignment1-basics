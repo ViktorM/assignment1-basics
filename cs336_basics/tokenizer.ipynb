{
 "cells": [
  {
   "cell_type": "code",
   "execution_count": 1,
   "metadata": {},
   "outputs": [],
   "source": [
    "PAT = r\"\"\"'(?:[sdmt]|ll|ve|re)| ?\\p{L}+| ?\\p{N}+| ?[^\\s\\p{L}\\p{N}]+|\\s+(?!\\S)|\\s+\"\"\""
   ]
  },
  {
   "cell_type": "code",
   "execution_count": 2,
   "metadata": {},
   "outputs": [
    {
     "data": {
      "text/plain": [
       "['Hello', ',', ' world', '!']"
      ]
     },
     "execution_count": 2,
     "metadata": {},
     "output_type": "execute_result"
    }
   ],
   "source": [
    "import regex as re\n",
    "re.findall(PAT, \"Hello, world!\")"
   ]
  },
  {
   "cell_type": "code",
   "execution_count": 4,
   "metadata": {},
   "outputs": [
    {
     "data": {
      "text/plain": [
       "['Some', ' text', ' that', ' I', \"'ll\", ' pre', '-', 'tokenize']"
      ]
     },
     "execution_count": 4,
     "metadata": {},
     "output_type": "execute_result"
    }
   ],
   "source": [
    "text = \"Some text that I'll pre-tokenize\"\n",
    "re.findall(PAT, text)"
   ]
  },
  {
   "cell_type": "code",
   "execution_count": 5,
   "metadata": {},
   "outputs": [
    {
     "name": "stdout",
     "output_type": "stream",
     "text": [
      "Match: 'Some' at positions 0–4\n",
      "Match: ' text' at positions 4–9\n",
      "Match: ' that' at positions 9–14\n",
      "Match: ' I' at positions 14–16\n",
      "Match: ''ll' at positions 16–19\n",
      "Match: ' pre' at positions 19–23\n",
      "Match: '-' at positions 23–24\n",
      "Match: 'tokenize' at positions 24–32\n"
     ]
    }
   ],
   "source": [
    "for match in re.finditer(PAT, text):\n",
    "    print(f\"Match: '{match.group()}' at positions {match.start()}–{match.end()}\")"
   ]
  },
  {
   "cell_type": "code",
   "execution_count": 10,
   "metadata": {},
   "outputs": [
    {
     "data": {
      "text/plain": [
       "b'9'"
      ]
     },
     "execution_count": 10,
     "metadata": {},
     "output_type": "execute_result"
    }
   ],
   "source": [
    "bytes('9', 'utf-8')"
   ]
  },
  {
   "cell_type": "code",
   "execution_count": 19,
   "metadata": {},
   "outputs": [
    {
     "data": {
      "text/plain": [
       "b'\\t\\n\\x0c'"
      ]
     },
     "execution_count": 19,
     "metadata": {},
     "output_type": "execute_result"
    }
   ],
   "source": [
    "bytes([9, 10, 12])"
   ]
  },
  {
   "cell_type": "code",
   "execution_count": 11,
   "metadata": {},
   "outputs": [
    {
     "data": {
      "text/plain": [
       "b'\\x00\\x00\\x00\\x00\\x00\\x00\\x00\\x00\\x00'"
      ]
     },
     "execution_count": 11,
     "metadata": {},
     "output_type": "execute_result"
    }
   ],
   "source": [
    "bytes(9)"
   ]
  },
  {
   "cell_type": "code",
   "execution_count": 6,
   "metadata": {},
   "outputs": [],
   "source": [
    "# Initial vocabulary: 256 single-byte tokens\n",
    "vocab = {bytes([i]): i for i in range(256)}\n",
    "print(vocab[bytes([8])])"
   ]
  },
  {
   "cell_type": "code",
   "execution_count": 19,
   "metadata": {},
   "outputs": [],
   "source": [
    "from collections import defaultdict\n",
    "\n",
    "# Step 1: Define initial vocabulary (single-byte tokens)\n",
    "vocab = {bytes([i]): i for i in range(256)}\n",
    "\n",
    "special_tokens = [\"<|endoftext|>\"] # [\"<|endoftext|>\", \"<|pad|>\"]\n",
    "for token in special_tokens:\n",
    "    vocab[token] = len(vocab)\n",
    "\n",
    "# Step 2: Pre-tokenize and convert to bytes\n",
    "text = \"low low low low low lower lower widest widest widest newest newest newest newest newest newest\"\n",
    "\n",
    "pre_tokens = text.strip().split()  # Simple pre-tokenization\n",
    "pre_tokens_bytes = [token.encode('utf-8') for token in pre_tokens]"
   ]
  },
  {
   "cell_type": "code",
   "execution_count": 20,
   "metadata": {},
   "outputs": [
    {
     "name": "stdout",
     "output_type": "stream",
     "text": [
      "['low', 'low', 'low', 'low', 'low', 'lower', 'lower', 'widest', 'widest', 'widest', 'newest', 'newest', 'newest', 'newest', 'newest', 'newest']\n",
      "defaultdict(<class 'int'>, {'low': 5, 'lower': 2, 'widest': 3, 'newest': 6})\n"
     ]
    }
   ],
   "source": [
    "print(pre_tokens)\n",
    "\n",
    "pre_token_counts = defaultdict(int)\n",
    "for t in pre_tokens:\n",
    "    pre_token_counts[t] +=1\n",
    "\n",
    "print(pre_token_counts)"
   ]
  },
  {
   "cell_type": "code",
   "execution_count": 21,
   "metadata": {},
   "outputs": [],
   "source": [
    "def decode_token(token):\n",
    "    if isinstance(token, int):\n",
    "        # Single-byte integer token\n",
    "        return bytes([token]).decode(\"utf-8\", errors='replace')\n",
    "    elif isinstance(token, tuple):\n",
    "        # Tuple token, decode recursively\n",
    "        return \"\".join(decode_token(st) for st in token)\n",
    "    else:\n",
    "        # Special tokens, represented as strings\n",
    "        return str(token)"
   ]
  },
  {
   "cell_type": "code",
   "execution_count": 22,
   "metadata": {},
   "outputs": [
    {
     "name": "stdout",
     "output_type": "stream",
     "text": [
      "ABC\n"
     ]
    }
   ],
   "source": [
    "most_freq_pair = ((65, 66), 67)  # AB + C\n",
    "print(decode_token(most_freq_pair))"
   ]
  },
  {
   "cell_type": "code",
   "execution_count": 23,
   "metadata": {},
   "outputs": [
    {
     "name": "stdout",
     "output_type": "stream",
     "text": [
      "defaultdict(<class 'int'>, {(108, 111): 7, (111, 119): 7, (119, 101): 8, (101, 114): 2, (119, 105): 3, (105, 100): 3, (100, 101): 3, (101, 115): 9, (115, 116): 9, (110, 101): 6, (101, 119): 6})\n"
     ]
    }
   ],
   "source": [
    "def calc_pair_counts(tokens):\n",
    "    pair_counts = defaultdict(int)\n",
    "    for token in tokens:\n",
    "        for i in range(len(token) - 1):\n",
    "            pair = (token[i], token[i + 1])\n",
    "            pair_counts[pair] += 1\n",
    "\n",
    "    return pair_counts\n",
    "\n",
    "pair_counts = calc_pair_counts(pre_tokens_bytes)\n",
    "print(pair_counts)"
   ]
  },
  {
   "cell_type": "code",
   "execution_count": 24,
   "metadata": {},
   "outputs": [
    {
     "name": "stdout",
     "output_type": "stream",
     "text": [
      "Next tooken id =  257\n",
      "Merge #1: (115, 116), Count: 9\n",
      "s t, Count: 9\n",
      "Merge #2: (101, (115, 116)), Count: 9\n",
      "e st, Count: 9\n",
      "Merge #3: (111, 119), Count: 7\n",
      "o w, Count: 7\n",
      "Merge #4: (108, (111, 119)), Count: 7\n",
      "l ow, Count: 7\n",
      "Merge #5: (119, (101, (115, 116))), Count: 6\n",
      "w est, Count: 6\n",
      "Merge #6: (110, 101), Count: 6\n",
      "n e, Count: 6\n"
     ]
    }
   ],
   "source": [
    "num_merges = 6\n",
    "\n",
    "next_token_id = len(vocab)\n",
    "print(\"Next tooken id = \", next_token_id)\n",
    "\n",
    "tokens = pre_tokens_bytes\n",
    "for merge_idx in range(num_merges):\n",
    "    pair_counts = calc_pair_counts(tokens)\n",
    "    if not pair_counts:\n",
    "        break\n",
    "    \n",
    "    # Find most frequent pair (lexicographically greatest on ties)\n",
    "    most_freq_pair = max(pair_counts, key=lambda p: (pair_counts[p], decode_token(p)))\n",
    "    print(f\"Merge #{merge_idx + 1}: {most_freq_pair}, Count: {pair_counts[most_freq_pair]}\")\n",
    "    t1 = decode_token(most_freq_pair[0])\n",
    "    t2 = decode_token(most_freq_pair[1])\n",
    "    print(f\"{t1} {t2}, Count: {pair_counts[most_freq_pair]}\")\n",
    "\n",
    "    vocab[most_freq_pair] = next_token_id\n",
    "    next_token_id += 1\n",
    "\n",
    "    new_tokens = []\n",
    "    for t in tokens:\n",
    "        new_t = []\n",
    "        i = 0\n",
    "        while i < len(t):\n",
    "            if i < (len(t) - 1) and (t[i], t[i + 1]) == most_freq_pair:\n",
    "                new_t.append(most_freq_pair)\n",
    "                i += 2\n",
    "            else:\n",
    "                new_t.append(t[i])\n",
    "                i += 1\n",
    "\n",
    "        new_tokens.append(new_t)\n",
    "    tokens = new_tokens"
   ]
  },
  {
   "cell_type": "code",
   "execution_count": 25,
   "metadata": {},
   "outputs": [
    {
     "name": "stdout",
     "output_type": "stream",
     "text": [
      "16\n",
      "16\n",
      "263\n"
     ]
    }
   ],
   "source": [
    "print(len(pre_tokens_bytes))\n",
    "print(len(tokens))\n",
    "print(len(vocab))"
   ]
  },
  {
   "cell_type": "code",
   "execution_count": 2,
   "metadata": {},
   "outputs": [
    {
     "name": "stdout",
     "output_type": "stream",
     "text": [
      "32\n"
     ]
    }
   ],
   "source": [
    "from multiprocessing import Pool, cpu_count\n",
    "\n",
    "num_processes = cpu_count()\n",
    "print(num_processes)"
   ]
  },
  {
   "cell_type": "code",
   "execution_count": 2,
   "metadata": {},
   "outputs": [
    {
     "name": "stdout",
     "output_type": "stream",
     "text": [
      "<\\|endoftext\\|>|<\\|pad\\|>\n"
     ]
    }
   ],
   "source": [
    "import re\n",
    "\n",
    "special_tokens = [\"<|endoftext|>\", \"<|pad|>\"]\n",
    "split_pattern = \"|\".join(re.escape(token) for token in special_tokens)\n",
    "\n",
    "print(split_pattern)"
   ]
  },
  {
   "cell_type": "code",
   "execution_count": 3,
   "metadata": {},
   "outputs": [
    {
     "name": "stdout",
     "output_type": "stream",
     "text": [
      "['Hello', 'world', 'example']\n"
     ]
    }
   ],
   "source": [
    "text = \"Hello<|endoftext|>world<|pad|>example\"\n",
    "docs = re.split(split_pattern, text)\n",
    "\n",
    "print(docs)"
   ]
  }
 ],
 "metadata": {
  "kernelspec": {
   "display_name": ".venv",
   "language": "python",
   "name": "python3"
  },
  "language_info": {
   "codemirror_mode": {
    "name": "ipython",
    "version": 3
   },
   "file_extension": ".py",
   "mimetype": "text/x-python",
   "name": "python",
   "nbconvert_exporter": "python",
   "pygments_lexer": "ipython3",
   "version": "3.12.5"
  }
 },
 "nbformat": 4,
 "nbformat_minor": 2
}
